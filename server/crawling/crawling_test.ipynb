{
  "nbformat": 4,
  "nbformat_minor": 0,
  "metadata": {
    "colab": {
      "provenance": []
    },
    "kernelspec": {
      "name": "python3",
      "display_name": "Python 3"
    },
    "language_info": {
      "name": "python"
    },
    "gpuClass": "standard"
  },
  "cells": [
    {
      "cell_type": "code",
      "execution_count": null,
      "metadata": {
        "id": "H9C9GIZ18tGG"
      },
      "outputs": [],
      "source": [
        "import requests\n",
        "from bs4 import BeautifulSoup\n",
        "\n"
      ]
    },
    {
      "cell_type": "code",
      "source": [
        "#디시\n",
        "url = \"https://www.dcinside.com/\"\n",
        "data = requests.get(url)\n",
        "\n",
        "soup = BeautifulSoup(data.text, 'html.parser')\n",
        "b = soup.find_all(\"div\", \"box besttxt\")\n",
        "dc_title_list = []\n",
        "for i in b:\n",
        "    c = i.find(\"p\")\n",
        "    dc_title_list.append(c.text)\n",
        "print(dc_title_list)"
      ],
      "metadata": {
        "colab": {
          "base_uri": "https://localhost:8080/"
        },
        "id": "wm4p5MI49WfK",
        "outputId": "2e58b389-d743-4507-9331-f8d85a1ebacf"
      },
      "execution_count": null,
      "outputs": [
        {
          "output_type": "stream",
          "name": "stdout",
          "text": [
            "['엄마 미안해', '피자업계를 긴장시켰던 광기 가득한 피자.jpg', '싱글벙글 웃으면 복이 와요 *^^*', '최근 하하 행보를 무척 걱정하는 사람', '[ㅇㅎ] 바디프로필', '오늘자 SOD 채널 인간 유전자 개량', '체인소맨 콜라보 pv', '당근 거래했다가 경찰서 갈것같아요', '희소식) 범고래충 멸망 ㅋㅋ.jpg', '카타르 맨유 인수시 음바페 영입 약속', '마른 하늘에 날벼락 ㅗㅜㅑ jpg', '드디어 재출시...혜자 도시락....jpg', '현재 심각한 새덕후(유튜버) 악플 상황', '싱글벙글 영화 신세계의 비하인드', '옆자리 여자애가 엘프가 된 만화 13.manhwa', '횡령, 사기 혐의받던 이두희 해커 근황.jpg', '[ㅇㅎ] 19) No. 1017 - Umi Shinonome / 東雲うみ', '말딸 루리웹 vs 디시 대전 개같이 부활ㅋㅋㅋㅋㅋㅋ', '태국 스냅과 짜투리 사진들', '무신사 냄새난다고 비꼬고 면 안 되는 이유', '싱기방기 잃어버린 정원의 파인애플', \"홈쇼핑에서 '매진임박' 단어를 아무때나 못쓰는 이유\", '강경원 흑자헬스 저격.jpg ㄷㄷㄷ', '조규성 팬들한테 안좋은 소리 나오고 있는 더바디샵 이벤트', '러시아 \"구조대원\", 터키 지진 잔해에서 현금 10만달러 긴빠이하다 걸림', '[Sofa]오늘자 손흥민 히트맵', '싱글벙글 수상할정도로 한국 스마트폰을 잘 그린 애니', '단독]유아인, 첩첩산중…“병역특혜 조사해달라” 피고발', '[ㅇㅎ] 스압) 루마니아 여자가수 antonia', '동물자유연대는 과연 사실을 말하고 있을까?-2', '지금 난리라는 표절 유튜버', '엄마의 빈자리를 대신하게 된 친구 ㅗㅜㅑ.jpg', '싱글벙글 한국인의 밥상 \"숯쟁이들의 밥상 편\"', '미국이 군산복합체에 먹혀서 망해가는 이유.reason', '에타)과거 원나잇 인식', '여초에서 발작 일으킨 네이버 웹툰.JPG', '잇섭) 갤 S23 울트라 vs 아이폰14 프로 성능 비교.jpg', '피지컬100 김다영 학폭 다수의 피해자...jpg', '[ㅇㅎ] 바디프로필', '싱글벙글 의외로 인기있는 프사', '서울시 간호직 티오 근황 ㅋㅋ', '김나정 아나운서 “아나운서는 벗으면 안되나요”', '우리아파트카페 캣맘 vs 정상인.jpg ㅋㅋㅋㅋ', '싱글벙글 다시보는 세모72사건', '어제자 PD수첩..... 아이를 낳지 않는 이유.....jpg', '수학여행에서 가슴 본썰.manhwa', '진로 소주 라벨 바꿔치기 걸렸다 ㅋㅋㅋ', '싱글벙글 n행시 대결', '애플페이 덕분에 삼성페이 (카드사)유료화', '[ㅇㅎ] 점점 발전하는 AI 실사', '신입이 G80 타고 왔다고 꼽주는 상사.blind', '보이스피싱으로 1천만원 뜯긴 피해자의 경험담.jpg', '오싹오싹 씨꺼멓게 타버린 닭', '스프링손잡이 사라진 이유 만화', '[성지순례] 나라 시기산 쵸고손시지와 신귀산연기', '모계성 때문에 헤어진 여시.jpg', '발렌타인데이만와', '파리직관후기', '몸이 굳어가는 아내를 11년째 지키는 남편', '[요리대회] \"플레인 슈거. ...아, 그것도 받아둘께.\"', '[ㅇㅎ] 바디프로필', '후투티 찾으러가는 만화', '헬멧 거의다 만들어가서 진행사항 올려봄', '춘천 초등학생 실종 이거 뭔지;;', '버라이어티 선정 최고의 영화 캐릭터 TOP 20', '꿩고기.jpg', '의외로 신기한 동물촌', '러브라이브로 배우는 상용한자 *리뉴얼 [14일차]', '헐리우드의 밀수꾼 자크 투르뇌르', '한달 1억 2천인데 가능?', '최근 논란이 된 상간남 사건 2탄.jpg', '[ㅇㅎ] 19) No. 1023 - Yume Hayashi / 林ゆめ', '싱글벙글 대만의 인종차별 광고', '워렌버핏 근황ㅋㅋㅋㅋㅋㅋㅋㅋㅋㅋㅋㅋㅋㅋㅋㅋㅋㅋㅋㅋㅋㅋㅋㅋㅋㅋㅋㅋㅋㅋㅋㅋㅋ', '아빠한테 빡친 딸.jpg', '이강인 지금 이정도 재능이였다면?역대급 한국인.gif', '??? : 틱톡으로 책 홍보하네 ㅋㅋ', '말딸을 현실에서 만들어 보았다...jpg', '싱글벙글 똥남아 등지 국민간식', '무신경한 여사친 만화2.manhwa', '이색적인 일본 스타벅스 지점들', '함디 부타 - 유서깊은 바그너의 망치질', '[ㅇㅎ] 바디프로필', \"[AI] 흘러빠진 아쎄이(OPEN AI) 교육 중간보고-1주차 '복종'\", '싱글벙글 배우가 유치해서 찍기 싫다고 했던 영화 명장면', '제2의 체르노빌사태 오하이오 철도화재 (스압)', '념글 스팔레티가 말한 박지성 크로스.gif', '여시)남친두고 다른 zoom남과 야스한 사실이 들킬까 걱정되는 여시녀', '한식이 달게 느껴지는 이유....jpg', '꼴릿꼴릿 우유 강제로 맥이는 짤의 정체...jpg', '호주백제실록 4화: 안개', '숏트맨 : 다크마이트', '1세계vs2세계 상황요약(러언론기준)', '[ㅇㅎ] 미스 맥심 김나정 & 김은지 4장 (221120 MAXIM 유튜브)', '전국민한테 사기쳐서 돈 벌어먹던 무당들 저격하는 참의사', '싱글벙글 남자애들 줘패던 짤의 진실', '요즘 한녀들 유행 레전드..jpg', '싱글벙글 걸그룹 해체 마지막 손편지', '실시간 영국에서 욕먹고 있는 손흥민 광고사진.jpg', '바린양 괴롭히기 (1)', '훈훈한 디시의 순기능.jpg', '블라인드 한녀 잘못 만나서 미칠 지경인 블라남', '대환장 튀르키예 대사관 근황', '러시아가 몰도바 공작시도와 방어전', '[ㅇㅎ] 운동 빡세게한 누나의 비키니 리뷰', '싱글벙글 일본 80년대 아이돌 클라스', '미국판 피지컬100 미리보기.gif', '중화민국군 24시간 전식', '출근길 정신병자 발견...jpg', '싱글벙글 제임스 카메론', '[속보] CPI 예상치 상회 ㅋㅋㅋㅋㅋㅋ', '경축) 찢재명 내일모레 구속영장 청구한다....jpg', '진짜 미쳤나 보네요..튀르키예 파병', '횬다이 아이오닉 운지', '싱글벙글 누구나 다 아는 유명 한국 소설 구절들', '오늘도 여성시대 레전드 찍었네,... ㅋㅋ', '[ㅇㅎ] 사라진만큼의 ㅈㅌ이를 올리는', '우리 반 복실이가 너무 잘 먹어.MANHWA #8.5 발렌타인 데이', '연애 프로그램에 나온 존예 여성의 고백', 'MZ세대 억지밈에 대한 분석 이거 재밌네', '피지컬 학폭 ㄷㄷㄷ', '훌쩍훌쩍 미국 어느 경찰의 장례식... jpg', '훌쩍훌쩍 똥서울에 와서 사회불안장애가 생겼다는 미국인들 ㅠㅠ.JPG', '오늘 토트넘 패배원인.....jpg', '이태원 유가족 \"관급 건물을 달라\" ㄷㄷㄷ..jpg', '영화 속 충격적인 장면...png', '일본인이 중국폰에서 GOS 찾아냄', '[ㅇㅎ] 내가 Ai 실사를 거부하는 이유', '남친 몰래 남자랑 새벽에 놀고 신뢰를 회복하고 싶다는 여자', '최근 빠르게 확장중인 현대식 부산 돼지국밥.jpg', '현대 서정시 입문 코스', '뚜벅이를 위한 출사 루트 추천 - 남산', '우주의 크기와 신', '봇치등 각종 애니 팬아트 그린거 모음', '(장문)토트넘식 4-2-4 변형 백3전술 만들어봄', '한반도 추위가 전쟁에 끼친 영향', '당신의 인생은 실패작입니까? 인생가챠 Manhwa. (스압주의)', '[ㅇㅎ] 운동 빡세게한 눈나의 비키니 리뷰', 'xx게 쳐늦은 일러스타 페스 후기......hoogi', '코스대회 보고 재업하는 봇더락 코스프레', '오싹오싹 xx의 음모', '여자 나이는 하나도 안 중요해~~~~~', '버번 위스키 구형 디자인들.jpg', '간지간지) 영화같은 공격 회피짤 모음 MMA', '퇴근하고 운동가기 전 쓰는 노가다 썰', '보안폴더 완벽하게 위장하는 법 알려준다', '세븐캣러브 / 사자꿈', '\"국가균형발전위원회, KBS·MBC 지방이전 준비 중\".news', '검찰...20대남성 구속.JPG', '엄마 때린 아들']\n"
          ]
        }
      ]
    },
    {
      "cell_type": "code",
      "source": [
        "#웃대\n",
        "url = \"http://web.humoruniv.com/main.html\"\n",
        "data = requests.get(url,headers={'User-agent': 'Mozilla/5.0 (Windows NT 10.0; Win64; x64) AppleWebKit/537.36 (KHTML, like Gecko) Chrome/109.0.0.0 Safari/537.36'})\n",
        "\n",
        "soup = BeautifulSoup(data.content.decode('euc-kr','replace'), 'html.parser')\n",
        "b = soup.find_all(\"div\", \"best_right\")\n",
        "b = b[0].find(\"ul\")\n",
        "c = b.find_all(\"a\")\n",
        "ud_title_list = []\n",
        "\n",
        "for i in c:\n",
        "    ud_title_list.append(i.text)\n",
        "\n",
        "print(ud_title_list)\n"
      ],
      "metadata": {
        "colab": {
          "base_uri": "https://localhost:8080/"
        },
        "id": "jaCAq-UOQEFv",
        "outputId": "667cdb88-76a6-4285-e924-1ff55a743e52"
      },
      "execution_count": null,
      "outputs": [
        {
          "output_type": "stream",
          "name": "stdout",
          "text": [
            "['시내버스 무료운행 결과', '상식적으로 갈비 하면 소갈비 인가요, 돼지갈비 인가요?', '인사담당자가 클릭할만한 자소서 제목.jpg', '해외여행 처음가면 실망하는 이유.jpg', '초콜릿 만들었더니 썸남 잠수탐', '카카오 택시, 과징금 257억 원', '명품가방들고 지하철...', '사건반장에 나온 수영장 아이 뇌사 사건', '결혼식에 참석한 이혼전문 변호사', '푸른거탑, 신병 드라마 PD가 만든 예능 근황']\n"
          ]
        }
      ]
    },
    {
      "cell_type": "code",
      "source": [
        "\n",
        "\n",
        "%%shell\n",
        "# Ubuntu no longer distributes chromium-browser outside of snap\n",
        "#\n",
        "# Proposed solution: https://askubuntu.com/questions/1204571/how-to-install-chromium-without-snap\n",
        "\n",
        "# Add debian buster\n",
        "cat > /etc/apt/sources.list.d/debian.list <<'EOF'\n",
        "deb [arch=amd64 signed-by=/usr/share/keyrings/debian-buster.gpg] http://deb.debian.org/debian buster main\n",
        "deb [arch=amd64 signed-by=/usr/share/keyrings/debian-buster-updates.gpg] http://deb.debian.org/debian buster-updates main\n",
        "deb [arch=amd64 signed-by=/usr/share/keyrings/debian-security-buster.gpg] http://deb.debian.org/debian-security buster/updates main\n",
        "EOF\n",
        "\n",
        "# Add keys\n",
        "apt-key adv --keyserver keyserver.ubuntu.com --recv-keys DCC9EFBF77E11517\n",
        "apt-key adv --keyserver keyserver.ubuntu.com --recv-keys 648ACFD622F3D138\n",
        "apt-key adv --keyserver keyserver.ubuntu.com --recv-keys 112695A0E562B32A\n",
        "\n",
        "apt-key export 77E11517 | gpg --dearmour -o /usr/share/keyrings/debian-buster.gpg\n",
        "apt-key export 22F3D138 | gpg --dearmour -o /usr/share/keyrings/debian-buster-updates.gpg\n",
        "apt-key export E562B32A | gpg --dearmour -o /usr/share/keyrings/debian-security-buster.gpg\n",
        "\n",
        "# Prefer debian repo for chromium* packages only\n",
        "# Note the double-blank lines between entries\n",
        "cat > /etc/apt/preferences.d/chromium.pref << 'EOF'\n",
        "Package: *\n",
        "Pin: release a=eoan\n",
        "Pin-Priority: 500\n",
        "\n",
        "\n",
        "Package: *\n",
        "Pin: origin \"deb.debian.org\"\n",
        "Pin-Priority: 300\n",
        "\n",
        "\n",
        "Package: chromium*\n",
        "Pin: origin \"deb.debian.org\"\n",
        "Pin-Priority: 700\n",
        "EOF\n",
        "\n",
        "# Install chromium and chromium-driver\n",
        "apt-get update\n",
        "apt-get install chromium chromium-driver\n",
        "\n",
        "# Install selenium\n",
        "pip install selenium\n",
        "\n",
        "from selenium import webdriver\n",
        "from selenium.webdriver.common.by import By\n"
      ],
      "metadata": {
        "colab": {
          "base_uri": "https://localhost:8080/",
          "height": 1000
        },
        "id": "SJpQliQjLiXF",
        "outputId": "eb479b99-79cd-41f9-a44b-62b0af4285a8"
      },
      "execution_count": null,
      "outputs": [
        {
          "output_type": "stream",
          "name": "stdout",
          "text": [
            "Executing: /tmp/apt-key-gpghome.LJ9GedEFOF/gpg.1.sh --keyserver keyserver.ubuntu.com --recv-keys DCC9EFBF77E11517\n",
            "gpg: key DCC9EFBF77E11517: \"Debian Stable Release Key (10/buster) <debian-release@lists.debian.org>\" not changed\n",
            "gpg: Total number processed: 1\n",
            "gpg:              unchanged: 1\n",
            "Executing: /tmp/apt-key-gpghome.U2VDcrasTR/gpg.1.sh --keyserver keyserver.ubuntu.com --recv-keys 648ACFD622F3D138\n",
            "gpg: key DC30D7C23CBBABEE: \"Debian Archive Automatic Signing Key (10/buster) <ftpmaster@debian.org>\" not changed\n",
            "gpg: Total number processed: 1\n",
            "gpg:              unchanged: 1\n",
            "Executing: /tmp/apt-key-gpghome.VrmM564Ws8/gpg.1.sh --keyserver keyserver.ubuntu.com --recv-keys 112695A0E562B32A\n",
            "gpg: key 4DFAB270CAA96DFA: \"Debian Security Archive Automatic Signing Key (10/buster) <ftpmaster@debian.org>\" not changed\n",
            "gpg: Total number processed: 1\n",
            "gpg:              unchanged: 1\n",
            "gpg: cannot open '/dev/tty': No such device or address\n",
            "Warning: apt-key output should not be parsed (stdout is not a terminal)\n",
            "gpg: [stdout]: write error: Broken pipe\n",
            "gpg: filter_flush failed on close: Broken pipe\n",
            "gpg: cannot open '/dev/tty': No such device or address\n",
            "Warning: apt-key output should not be parsed (stdout is not a terminal)\n",
            "gpg: [stdout]: write error: Broken pipe\n",
            "gpg: filter_flush failed on close: Broken pipe\n",
            "gpg: cannot open '/dev/tty': No such device or address\n",
            "Warning: apt-key output should not be parsed (stdout is not a terminal)\n",
            "gpg: [stdout]: write error: Broken pipe\n",
            "gpg: filter_flush failed on close: Broken pipe\n",
            "Hit:1 http://deb.debian.org/debian buster InRelease\n",
            "Hit:2 http://deb.debian.org/debian buster-updates InRelease\n",
            "Hit:3 http://deb.debian.org/debian-security buster/updates InRelease\n",
            "Hit:4 https://cloud.r-project.org/bin/linux/ubuntu focal-cran40/ InRelease\n",
            "Hit:5 http://ppa.launchpad.net/c2d4u.team/c2d4u4.0+/ubuntu focal InRelease\n",
            "Hit:6 http://security.ubuntu.com/ubuntu focal-security InRelease\n",
            "Hit:7 http://archive.ubuntu.com/ubuntu focal InRelease\n",
            "Ign:8 https://developer.download.nvidia.com/compute/machine-learning/repos/ubuntu2004/x86_64  InRelease\n",
            "Hit:9 https://developer.download.nvidia.com/compute/cuda/repos/ubuntu2004/x86_64  InRelease\n",
            "Hit:10 https://developer.download.nvidia.com/compute/machine-learning/repos/ubuntu2004/x86_64  Release\n",
            "Hit:11 http://archive.ubuntu.com/ubuntu focal-updates InRelease\n",
            "Hit:12 http://ppa.launchpad.net/cran/libgit2/ubuntu focal InRelease\n",
            "Hit:13 http://archive.ubuntu.com/ubuntu focal-backports InRelease\n",
            "Hit:14 http://ppa.launchpad.net/deadsnakes/ppa/ubuntu focal InRelease\n",
            "Hit:15 http://ppa.launchpad.net/graphics-drivers/ppa/ubuntu focal InRelease\n",
            "Hit:16 http://ppa.launchpad.net/ubuntugis/ppa/ubuntu focal InRelease\n",
            "Reading package lists... Done\n",
            "Reading package lists... Done\n",
            "Building dependency tree       \n",
            "Reading state information... Done\n",
            "chromium is already the newest version (90.0.4430.212-1~deb10u1).\n",
            "The following package was automatically installed and is no longer required:\n",
            "  libnvidia-common-510\n",
            "Use 'apt autoremove' to remove it.\n",
            "The following NEW packages will be installed:\n",
            "  chromium-driver\n",
            "0 upgraded, 1 newly installed, 0 to remove and 23 not upgraded.\n",
            "16 not fully installed or removed.\n",
            "Need to get 4,703 kB of archives.\n",
            "After this operation, 13.3 MB of additional disk space will be used.\n",
            "Get:1 http://deb.debian.org/debian buster/main amd64 chromium-driver amd64 90.0.4430.212-1~deb10u1 [4,703 kB]\n",
            "Fetched 4,703 kB in 0s (34.8 MB/s)\n",
            "(Reading database ... 128620 files and directories currently installed.)\n",
            "Preparing to unpack .../chromium-driver_90.0.4430.212-1~deb10u1_amd64.deb ...\n",
            "Unpacking chromium-driver (90.0.4430.212-1~deb10u1) ...\n",
            "dpkg: error processing archive /var/cache/apt/archives/chromium-driver_90.0.4430.212-1~deb10u1_amd64.deb (--unpack):\n",
            " trying to overwrite '/usr/bin/chromedriver', which is also in package chromium-chromedriver 1:85.0.4183.83-0ubuntu0.20.04.2\n",
            "dpkg-deb: error: paste subprocess was killed by signal (Broken pipe)\n",
            "Errors were encountered while processing:\n",
            " /var/cache/apt/archives/chromium-driver_90.0.4430.212-1~deb10u1_amd64.deb\n",
            "E: Sub-process /usr/bin/dpkg returned an error code (1)\n",
            "Looking in indexes: https://pypi.org/simple, https://us-python.pkg.dev/colab-wheels/public/simple/\n",
            "Requirement already satisfied: selenium in /usr/local/lib/python3.8/dist-packages (4.8.0)\n",
            "Requirement already satisfied: certifi>=2021.10.8 in /usr/local/lib/python3.8/dist-packages (from selenium) (2022.12.7)\n",
            "Requirement already satisfied: trio-websocket~=0.9 in /usr/local/lib/python3.8/dist-packages (from selenium) (0.9.2)\n",
            "Requirement already satisfied: trio~=0.17 in /usr/local/lib/python3.8/dist-packages (from selenium) (0.22.0)\n",
            "Requirement already satisfied: urllib3[socks]~=1.26 in /usr/local/lib/python3.8/dist-packages (from selenium) (1.26.14)\n",
            "Requirement already satisfied: sortedcontainers in /usr/local/lib/python3.8/dist-packages (from trio~=0.17->selenium) (2.4.0)\n",
            "Requirement already satisfied: exceptiongroup>=1.0.0rc9 in /usr/local/lib/python3.8/dist-packages (from trio~=0.17->selenium) (1.1.0)\n",
            "Requirement already satisfied: outcome in /usr/local/lib/python3.8/dist-packages (from trio~=0.17->selenium) (1.2.0)\n",
            "Requirement already satisfied: idna in /usr/local/lib/python3.8/dist-packages (from trio~=0.17->selenium) (2.10)\n",
            "Requirement already satisfied: async-generator>=1.9 in /usr/local/lib/python3.8/dist-packages (from trio~=0.17->selenium) (1.10)\n",
            "Requirement already satisfied: sniffio in /usr/local/lib/python3.8/dist-packages (from trio~=0.17->selenium) (1.3.0)\n",
            "Requirement already satisfied: attrs>=19.2.0 in /usr/local/lib/python3.8/dist-packages (from trio~=0.17->selenium) (22.2.0)\n",
            "Requirement already satisfied: wsproto>=0.14 in /usr/local/lib/python3.8/dist-packages (from trio-websocket~=0.9->selenium) (1.2.0)\n",
            "Requirement already satisfied: PySocks!=1.5.7,<2.0,>=1.5.6 in /usr/local/lib/python3.8/dist-packages (from urllib3[socks]~=1.26->selenium) (1.7.1)\n",
            "Requirement already satisfied: h11<1,>=0.9.0 in /usr/local/lib/python3.8/dist-packages (from wsproto>=0.14->trio-websocket~=0.9->selenium) (0.14.0)\n",
            "from: can't read /var/mail/selenium\n",
            "from: can't read /var/mail/selenium.webdriver.common.by\n"
          ]
        },
        {
          "output_type": "error",
          "ename": "CalledProcessError",
          "evalue": "ignored",
          "traceback": [
            "\u001b[0;31m---------------------------------------------------------------------------\u001b[0m",
            "\u001b[0;31mCalledProcessError\u001b[0m                        Traceback (most recent call last)",
            "\u001b[0;32m<ipython-input-50-f42403848b25>\u001b[0m in \u001b[0;36m<module>\u001b[0;34m\u001b[0m\n\u001b[0;32m----> 1\u001b[0;31m \u001b[0mget_ipython\u001b[0m\u001b[0;34m(\u001b[0m\u001b[0;34m)\u001b[0m\u001b[0;34m.\u001b[0m\u001b[0mrun_cell_magic\u001b[0m\u001b[0;34m(\u001b[0m\u001b[0;34m'shell'\u001b[0m\u001b[0;34m,\u001b[0m \u001b[0;34m''\u001b[0m\u001b[0;34m,\u001b[0m \u001b[0;34m'# Ubuntu no longer distributes chromium-browser outside of snap\\n#\\n# Proposed solution: https://askubuntu.com/questions/1204571/how-to-install-chromium-without-snap\\n\\n# Add debian buster\\ncat > /etc/apt/sources.list.d/debian.list <<\\'EOF\\'\\ndeb [arch=amd64 signed-by=/usr/share/keyrings/debian-buster.gpg] http://deb.debian.org/debian buster main\\ndeb [arch=amd64 signed-by=/usr/share/keyrings/debian-buster-updates.gpg] http://deb.debian.org/debian buster-updates main\\ndeb [arch=amd64 signed-by=/usr/share/keyrings/debian-security-buster.gpg] http://deb.debian.org/debian-security buster/updates main\\nEOF\\n\\n# Add keys\\napt-key adv --keyserver keyserver.ubuntu.com --recv-keys DCC9EFBF77E11517\\napt-key adv --keyserver keyserver.ubuntu.com --recv-keys 648ACFD622F3D138\\napt-key adv --keyserver keyserver.ubuntu.com --recv-keys 112695A0E562B32A\\n\\napt-key export 77E11517 | gpg --dearmour -o /usr/share/keyrings/debian-buster.gpg\\napt-key export 22F3D138 | gpg --dearmour -o /usr/share/keyrings/debian-buster-updates.gpg\\napt-key export E562B32A | gpg --dearmour -o /usr/share/keyrings/debian-security-buster.gpg\\n\\n# Prefer debian repo for chromium* packages only\\n# Note the double-blank lines between entries\\ncat > /etc/apt/preferences.d/chromium.pref << \\'EOF\\'\\nPackage: *\\nPin: release a=eoan\\nPin-Priority: 50...\n\u001b[0m",
            "\u001b[0;32m/usr/local/lib/python3.8/dist-packages/IPython/core/interactiveshell.py\u001b[0m in \u001b[0;36mrun_cell_magic\u001b[0;34m(self, magic_name, line, cell)\u001b[0m\n\u001b[1;32m   2357\u001b[0m             \u001b[0;32mwith\u001b[0m \u001b[0mself\u001b[0m\u001b[0;34m.\u001b[0m\u001b[0mbuiltin_trap\u001b[0m\u001b[0;34m:\u001b[0m\u001b[0;34m\u001b[0m\u001b[0;34m\u001b[0m\u001b[0m\n\u001b[1;32m   2358\u001b[0m                 \u001b[0margs\u001b[0m \u001b[0;34m=\u001b[0m \u001b[0;34m(\u001b[0m\u001b[0mmagic_arg_s\u001b[0m\u001b[0;34m,\u001b[0m \u001b[0mcell\u001b[0m\u001b[0;34m)\u001b[0m\u001b[0;34m\u001b[0m\u001b[0;34m\u001b[0m\u001b[0m\n\u001b[0;32m-> 2359\u001b[0;31m                 \u001b[0mresult\u001b[0m \u001b[0;34m=\u001b[0m \u001b[0mfn\u001b[0m\u001b[0;34m(\u001b[0m\u001b[0;34m*\u001b[0m\u001b[0margs\u001b[0m\u001b[0;34m,\u001b[0m \u001b[0;34m**\u001b[0m\u001b[0mkwargs\u001b[0m\u001b[0;34m)\u001b[0m\u001b[0;34m\u001b[0m\u001b[0;34m\u001b[0m\u001b[0m\n\u001b[0m\u001b[1;32m   2360\u001b[0m             \u001b[0;32mreturn\u001b[0m \u001b[0mresult\u001b[0m\u001b[0;34m\u001b[0m\u001b[0;34m\u001b[0m\u001b[0m\n\u001b[1;32m   2361\u001b[0m \u001b[0;34m\u001b[0m\u001b[0m\n",
            "\u001b[0;32m/usr/local/lib/python3.8/dist-packages/google/colab/_system_commands.py\u001b[0m in \u001b[0;36m_shell_cell_magic\u001b[0;34m(args, cmd)\u001b[0m\n\u001b[1;32m    107\u001b[0m   \u001b[0mresult\u001b[0m \u001b[0;34m=\u001b[0m \u001b[0m_run_command\u001b[0m\u001b[0;34m(\u001b[0m\u001b[0mcmd\u001b[0m\u001b[0;34m,\u001b[0m \u001b[0mclear_streamed_output\u001b[0m\u001b[0;34m=\u001b[0m\u001b[0;32mFalse\u001b[0m\u001b[0;34m)\u001b[0m\u001b[0;34m\u001b[0m\u001b[0;34m\u001b[0m\u001b[0m\n\u001b[1;32m    108\u001b[0m   \u001b[0;32mif\u001b[0m \u001b[0;32mnot\u001b[0m \u001b[0mparsed_args\u001b[0m\u001b[0;34m.\u001b[0m\u001b[0mignore_errors\u001b[0m\u001b[0;34m:\u001b[0m\u001b[0;34m\u001b[0m\u001b[0;34m\u001b[0m\u001b[0m\n\u001b[0;32m--> 109\u001b[0;31m     \u001b[0mresult\u001b[0m\u001b[0;34m.\u001b[0m\u001b[0mcheck_returncode\u001b[0m\u001b[0;34m(\u001b[0m\u001b[0;34m)\u001b[0m\u001b[0;34m\u001b[0m\u001b[0;34m\u001b[0m\u001b[0m\n\u001b[0m\u001b[1;32m    110\u001b[0m   \u001b[0;32mreturn\u001b[0m \u001b[0mresult\u001b[0m\u001b[0;34m\u001b[0m\u001b[0;34m\u001b[0m\u001b[0m\n\u001b[1;32m    111\u001b[0m \u001b[0;34m\u001b[0m\u001b[0m\n",
            "\u001b[0;32m/usr/local/lib/python3.8/dist-packages/google/colab/_system_commands.py\u001b[0m in \u001b[0;36mcheck_returncode\u001b[0;34m(self)\u001b[0m\n\u001b[1;32m    132\u001b[0m   \u001b[0;32mdef\u001b[0m \u001b[0mcheck_returncode\u001b[0m\u001b[0;34m(\u001b[0m\u001b[0mself\u001b[0m\u001b[0;34m)\u001b[0m\u001b[0;34m:\u001b[0m\u001b[0;34m\u001b[0m\u001b[0;34m\u001b[0m\u001b[0m\n\u001b[1;32m    133\u001b[0m     \u001b[0;32mif\u001b[0m \u001b[0mself\u001b[0m\u001b[0;34m.\u001b[0m\u001b[0mreturncode\u001b[0m\u001b[0;34m:\u001b[0m\u001b[0;34m\u001b[0m\u001b[0;34m\u001b[0m\u001b[0m\n\u001b[0;32m--> 134\u001b[0;31m       raise subprocess.CalledProcessError(\n\u001b[0m\u001b[1;32m    135\u001b[0m           returncode=self.returncode, cmd=self.args, output=self.output)\n\u001b[1;32m    136\u001b[0m \u001b[0;34m\u001b[0m\u001b[0m\n",
            "\u001b[0;31mCalledProcessError\u001b[0m: Command '# Ubuntu no longer distributes chromium-browser outside of snap\n#\n# Proposed solution: https://askubuntu.com/questions/1204571/how-to-install-chromium-without-snap\n\n# Add debian buster\ncat > /etc/apt/sources.list.d/debian.list <<'EOF'\ndeb [arch=amd64 signed-by=/usr/share/keyrings/debian-buster.gpg] http://deb.debian.org/debian buster main\ndeb [arch=amd64 signed-by=/usr/share/keyrings/debian-buster-updates.gpg] http://deb.debian.org/debian buster-updates main\ndeb [arch=amd64 signed-by=/usr/share/keyrings/debian-security-buster.gpg] http://deb.debian.org/debian-security buster/updates main\nEOF\n\n# Add keys\napt-key adv --keyserver keyserver.ubuntu.com --recv-keys DCC9EFBF77E11517\napt-key adv --keyserver keyserver.ubuntu.com --recv-keys 648ACFD622F3D138\napt-key adv --keyserver keyserver.ubuntu.com --recv-keys 112695A0E562B32A\n\napt-key export 77E11517 | gpg --dearmour -o /usr/share/keyrings/debian-buster.gpg\napt-key export 22F3D138 | gpg --dearmour -o /usr/share/keyrings/debian-buster-updates.gpg\napt-key export E562B32A | gpg --dearmour -o /usr/share/keyrings/debian-security-buster.gpg\n\n# Prefer debian repo for chromium* packages only\n# Note the double-blank lines between entries\ncat > /etc/apt/preferences.d/chromium.pref << 'EOF'\nPackage: *\nPin: release a=eoan\nPin-Priority: 500\n\n\nPackage: *\nPin: origin \"deb.debian.org\"\nPin-Priority: 300\n\n\nPackage: chromium*\nPin: origin \"deb.debian.org\"\nPin-Priority: 700\nEOF\n\n# Install chromium and chromium-driver\napt-get update\napt-get install chromium chromium-driver\n\n# Install selenium\npip install selenium\n\nfrom selenium import webdriver\nfrom selenium.webdriver.common.by import By\n' returned non-zero exit status 1."
          ]
        }
      ]
    },
    {
      "cell_type": "code",
      "source": [
        "options = webdriver.ChromeOptions()\n",
        "options.add_argument('--headless')        # Head-less 설정\n",
        "options.add_argument('--no-sandbox')\n",
        "options.add_argument('--disable-dev-shm-usage')\n",
        "driver = webdriver.Chrome('/content/chromedriver', options=options)\n",
        "driver.get('https://www.fmkorea.com/best2')\n",
        "html = driver.page_source\n",
        "\n",
        "soup = BeautifulSoup(html.content.decode('utf-8','replace'), 'html.parser')\n",
        "print(soup)"
      ],
      "metadata": {
        "colab": {
          "base_uri": "https://localhost:8080/",
          "height": 443
        },
        "id": "V3wVehOsT4O6",
        "outputId": "fbb534d9-f23d-4857-aabe-5cb89d732c5e"
      },
      "execution_count": null,
      "outputs": [
        {
          "output_type": "stream",
          "name": "stderr",
          "text": [
            "<ipython-input-47-696399bf91f2>:5: DeprecationWarning: executable_path has been deprecated, please pass in a Service object\n",
            "  driver = webdriver.Chrome('/content/chromedriver', options=options)\n"
          ]
        },
        {
          "output_type": "error",
          "ename": "WebDriverException",
          "evalue": "ignored",
          "traceback": [
            "\u001b[0;31m---------------------------------------------------------------------------\u001b[0m",
            "\u001b[0;31mWebDriverException\u001b[0m                        Traceback (most recent call last)",
            "\u001b[0;32m<ipython-input-47-696399bf91f2>\u001b[0m in \u001b[0;36m<module>\u001b[0;34m\u001b[0m\n\u001b[1;32m      3\u001b[0m \u001b[0moptions\u001b[0m\u001b[0;34m.\u001b[0m\u001b[0madd_argument\u001b[0m\u001b[0;34m(\u001b[0m\u001b[0;34m'--no-sandbox'\u001b[0m\u001b[0;34m)\u001b[0m\u001b[0;34m\u001b[0m\u001b[0;34m\u001b[0m\u001b[0m\n\u001b[1;32m      4\u001b[0m \u001b[0moptions\u001b[0m\u001b[0;34m.\u001b[0m\u001b[0madd_argument\u001b[0m\u001b[0;34m(\u001b[0m\u001b[0;34m'--disable-dev-shm-usage'\u001b[0m\u001b[0;34m)\u001b[0m\u001b[0;34m\u001b[0m\u001b[0;34m\u001b[0m\u001b[0m\n\u001b[0;32m----> 5\u001b[0;31m \u001b[0mdriver\u001b[0m \u001b[0;34m=\u001b[0m \u001b[0mwebdriver\u001b[0m\u001b[0;34m.\u001b[0m\u001b[0mChrome\u001b[0m\u001b[0;34m(\u001b[0m\u001b[0;34m'/content/chromedriver'\u001b[0m\u001b[0;34m,\u001b[0m \u001b[0moptions\u001b[0m\u001b[0;34m=\u001b[0m\u001b[0moptions\u001b[0m\u001b[0;34m)\u001b[0m\u001b[0;34m\u001b[0m\u001b[0;34m\u001b[0m\u001b[0m\n\u001b[0m\u001b[1;32m      6\u001b[0m \u001b[0mdriver\u001b[0m\u001b[0;34m.\u001b[0m\u001b[0mget\u001b[0m\u001b[0;34m(\u001b[0m\u001b[0;34m'https://www.fmkorea.com/best2'\u001b[0m\u001b[0;34m)\u001b[0m\u001b[0;34m\u001b[0m\u001b[0;34m\u001b[0m\u001b[0m\n\u001b[1;32m      7\u001b[0m \u001b[0mhtml\u001b[0m \u001b[0;34m=\u001b[0m \u001b[0mdriver\u001b[0m\u001b[0;34m.\u001b[0m\u001b[0mpage_source\u001b[0m\u001b[0;34m\u001b[0m\u001b[0;34m\u001b[0m\u001b[0m\n",
            "\u001b[0;32m/usr/local/lib/python3.8/dist-packages/selenium/webdriver/chrome/webdriver.py\u001b[0m in \u001b[0;36m__init__\u001b[0;34m(self, executable_path, port, options, service_args, desired_capabilities, service_log_path, chrome_options, service, keep_alive)\u001b[0m\n\u001b[1;32m     78\u001b[0m             \u001b[0mservice\u001b[0m \u001b[0;34m=\u001b[0m \u001b[0mService\u001b[0m\u001b[0;34m(\u001b[0m\u001b[0mexecutable_path\u001b[0m\u001b[0;34m,\u001b[0m \u001b[0mport\u001b[0m\u001b[0;34m,\u001b[0m \u001b[0mservice_args\u001b[0m\u001b[0;34m,\u001b[0m \u001b[0mservice_log_path\u001b[0m\u001b[0;34m)\u001b[0m\u001b[0;34m\u001b[0m\u001b[0;34m\u001b[0m\u001b[0m\n\u001b[1;32m     79\u001b[0m \u001b[0;34m\u001b[0m\u001b[0m\n\u001b[0;32m---> 80\u001b[0;31m         super().__init__(\n\u001b[0m\u001b[1;32m     81\u001b[0m             \u001b[0mDesiredCapabilities\u001b[0m\u001b[0;34m.\u001b[0m\u001b[0mCHROME\u001b[0m\u001b[0;34m[\u001b[0m\u001b[0;34m\"browserName\"\u001b[0m\u001b[0;34m]\u001b[0m\u001b[0;34m,\u001b[0m\u001b[0;34m\u001b[0m\u001b[0;34m\u001b[0m\u001b[0m\n\u001b[1;32m     82\u001b[0m             \u001b[0;34m\"goog\"\u001b[0m\u001b[0;34m,\u001b[0m\u001b[0;34m\u001b[0m\u001b[0;34m\u001b[0m\u001b[0m\n",
            "\u001b[0;32m/usr/local/lib/python3.8/dist-packages/selenium/webdriver/chromium/webdriver.py\u001b[0m in \u001b[0;36m__init__\u001b[0;34m(self, browser_name, vendor_prefix, port, options, service_args, desired_capabilities, service_log_path, service, keep_alive)\u001b[0m\n\u001b[1;32m     99\u001b[0m \u001b[0;34m\u001b[0m\u001b[0m\n\u001b[1;32m    100\u001b[0m         \u001b[0mself\u001b[0m\u001b[0;34m.\u001b[0m\u001b[0mservice\u001b[0m \u001b[0;34m=\u001b[0m \u001b[0mservice\u001b[0m\u001b[0;34m\u001b[0m\u001b[0;34m\u001b[0m\u001b[0m\n\u001b[0;32m--> 101\u001b[0;31m         \u001b[0mself\u001b[0m\u001b[0;34m.\u001b[0m\u001b[0mservice\u001b[0m\u001b[0;34m.\u001b[0m\u001b[0mstart\u001b[0m\u001b[0;34m(\u001b[0m\u001b[0;34m)\u001b[0m\u001b[0;34m\u001b[0m\u001b[0;34m\u001b[0m\u001b[0m\n\u001b[0m\u001b[1;32m    102\u001b[0m \u001b[0;34m\u001b[0m\u001b[0m\n\u001b[1;32m    103\u001b[0m         \u001b[0;32mtry\u001b[0m\u001b[0;34m:\u001b[0m\u001b[0;34m\u001b[0m\u001b[0;34m\u001b[0m\u001b[0m\n",
            "\u001b[0;32m/usr/local/lib/python3.8/dist-packages/selenium/webdriver/common/service.py\u001b[0m in \u001b[0;36mstart\u001b[0;34m(self)\u001b[0m\n\u001b[1;32m    102\u001b[0m         \u001b[0mcount\u001b[0m \u001b[0;34m=\u001b[0m \u001b[0;36m0\u001b[0m\u001b[0;34m\u001b[0m\u001b[0;34m\u001b[0m\u001b[0m\n\u001b[1;32m    103\u001b[0m         \u001b[0;32mwhile\u001b[0m \u001b[0;32mTrue\u001b[0m\u001b[0;34m:\u001b[0m\u001b[0;34m\u001b[0m\u001b[0;34m\u001b[0m\u001b[0m\n\u001b[0;32m--> 104\u001b[0;31m             \u001b[0mself\u001b[0m\u001b[0;34m.\u001b[0m\u001b[0massert_process_still_running\u001b[0m\u001b[0;34m(\u001b[0m\u001b[0;34m)\u001b[0m\u001b[0;34m\u001b[0m\u001b[0;34m\u001b[0m\u001b[0m\n\u001b[0m\u001b[1;32m    105\u001b[0m             \u001b[0;32mif\u001b[0m \u001b[0mself\u001b[0m\u001b[0;34m.\u001b[0m\u001b[0mis_connectable\u001b[0m\u001b[0;34m(\u001b[0m\u001b[0;34m)\u001b[0m\u001b[0;34m:\u001b[0m\u001b[0;34m\u001b[0m\u001b[0;34m\u001b[0m\u001b[0m\n\u001b[1;32m    106\u001b[0m                 \u001b[0;32mbreak\u001b[0m\u001b[0;34m\u001b[0m\u001b[0;34m\u001b[0m\u001b[0m\n",
            "\u001b[0;32m/usr/local/lib/python3.8/dist-packages/selenium/webdriver/common/service.py\u001b[0m in \u001b[0;36massert_process_still_running\u001b[0;34m(self)\u001b[0m\n\u001b[1;32m    115\u001b[0m         \u001b[0mreturn_code\u001b[0m \u001b[0;34m=\u001b[0m \u001b[0mself\u001b[0m\u001b[0;34m.\u001b[0m\u001b[0mprocess\u001b[0m\u001b[0;34m.\u001b[0m\u001b[0mpoll\u001b[0m\u001b[0;34m(\u001b[0m\u001b[0;34m)\u001b[0m\u001b[0;34m\u001b[0m\u001b[0;34m\u001b[0m\u001b[0m\n\u001b[1;32m    116\u001b[0m         \u001b[0;32mif\u001b[0m \u001b[0mreturn_code\u001b[0m\u001b[0;34m:\u001b[0m\u001b[0;34m\u001b[0m\u001b[0;34m\u001b[0m\u001b[0m\n\u001b[0;32m--> 117\u001b[0;31m             \u001b[0;32mraise\u001b[0m \u001b[0mWebDriverException\u001b[0m\u001b[0;34m(\u001b[0m\u001b[0;34mf\"Service {self.path} unexpectedly exited. Status code was: {return_code}\"\u001b[0m\u001b[0;34m)\u001b[0m\u001b[0;34m\u001b[0m\u001b[0;34m\u001b[0m\u001b[0m\n\u001b[0m\u001b[1;32m    118\u001b[0m \u001b[0;34m\u001b[0m\u001b[0m\n\u001b[1;32m    119\u001b[0m     \u001b[0;32mdef\u001b[0m \u001b[0mis_connectable\u001b[0m\u001b[0;34m(\u001b[0m\u001b[0mself\u001b[0m\u001b[0;34m)\u001b[0m \u001b[0;34m->\u001b[0m \u001b[0mbool\u001b[0m\u001b[0;34m:\u001b[0m\u001b[0;34m\u001b[0m\u001b[0;34m\u001b[0m\u001b[0m\n",
            "\u001b[0;31mWebDriverException\u001b[0m: Message: Service /content/chromedriver unexpectedly exited. Status code was: 1\n"
          ]
        }
      ]
    },
    {
      "cell_type": "code",
      "source": [
        "!pip install -U sentence-transformers\n",
        "from sentence_transformers import SentenceTransformer, util\n",
        "import numpy as np\n",
        "\n",
        "embedder = SentenceTransformer(\"jhgan/ko-sroberta-multitask\")\n",
        "\n",
        "# Corpus with example sentences\n",
        "corpus = dc_title_list\n",
        "\n",
        "corpus_embeddings = embedder.encode(corpus, convert_to_tensor=True)\n",
        "\n",
        "# Query sentences:\n",
        "queries = ['한 남자가 파스타를 먹는다.',\n",
        "  '고릴라 의상을 입은 누군가가 드럼을 연주하고 있다.',\n",
        "  '치타가 들판을 가로 질러 먹이를 쫓는다.']\n",
        "\n",
        "# Find the closest 5 sentences of the corpus for each query sentence based on cosine similarity\n",
        "top_k = 5\n",
        "for query in queries:\n",
        " query_embedding = embedder.encode(query, convert_to_tensor=True)\n",
        " cos_scores = util.pytorch_cos_sim(query_embedding, corpus_embeddings)[0]\n",
        " cos_scores = cos_scores.cpu()\n",
        "\n",
        " #We use np.argpartition, to only partially sort the top_k results\n",
        " top_results = np.argpartition(-cos_scores, range(top_k))[0:top_k]\n",
        "\n",
        " print(\"\\n\\n======================\\n\\n\")\n",
        " print(\"Query:\", query)\n",
        " print(\"\\nTop 5 most similar sentences in corpus:\")\n",
        "\n",
        " for idx in top_results[0:top_k]:\n",
        "  print(corpus[idx].strip(), \"(Score: %.4f)\" % (cos_scores[idx]))"
      ],
      "metadata": {
        "colab": {
          "base_uri": "https://localhost:8080/"
        },
        "id": "vOs3cmiXJcFw",
        "outputId": "bb36e37c-d62a-4352-db18-b966a58696ac"
      },
      "execution_count": null,
      "outputs": [
        {
          "output_type": "stream",
          "name": "stdout",
          "text": [
            "Looking in indexes: https://pypi.org/simple, https://us-python.pkg.dev/colab-wheels/public/simple/\n",
            "Requirement already satisfied: sentence-transformers in /usr/local/lib/python3.8/dist-packages (2.2.2)\n",
            "Requirement already satisfied: sentencepiece in /usr/local/lib/python3.8/dist-packages (from sentence-transformers) (0.1.97)\n",
            "Requirement already satisfied: numpy in /usr/local/lib/python3.8/dist-packages (from sentence-transformers) (1.21.6)\n",
            "Requirement already satisfied: scipy in /usr/local/lib/python3.8/dist-packages (from sentence-transformers) (1.7.3)\n",
            "Requirement already satisfied: torch>=1.6.0 in /usr/local/lib/python3.8/dist-packages (from sentence-transformers) (1.13.1+cu116)\n",
            "Requirement already satisfied: torchvision in /usr/local/lib/python3.8/dist-packages (from sentence-transformers) (0.14.1+cu116)\n",
            "Requirement already satisfied: transformers<5.0.0,>=4.6.0 in /usr/local/lib/python3.8/dist-packages (from sentence-transformers) (4.26.1)\n",
            "Requirement already satisfied: scikit-learn in /usr/local/lib/python3.8/dist-packages (from sentence-transformers) (1.0.2)\n",
            "Requirement already satisfied: huggingface-hub>=0.4.0 in /usr/local/lib/python3.8/dist-packages (from sentence-transformers) (0.12.0)\n",
            "Requirement already satisfied: nltk in /usr/local/lib/python3.8/dist-packages (from sentence-transformers) (3.7)\n",
            "Requirement already satisfied: tqdm in /usr/local/lib/python3.8/dist-packages (from sentence-transformers) (4.64.1)\n",
            "Requirement already satisfied: filelock in /usr/local/lib/python3.8/dist-packages (from huggingface-hub>=0.4.0->sentence-transformers) (3.9.0)\n",
            "Requirement already satisfied: pyyaml>=5.1 in /usr/local/lib/python3.8/dist-packages (from huggingface-hub>=0.4.0->sentence-transformers) (6.0)\n",
            "Requirement already satisfied: packaging>=20.9 in /usr/local/lib/python3.8/dist-packages (from huggingface-hub>=0.4.0->sentence-transformers) (23.0)\n",
            "Requirement already satisfied: typing-extensions>=3.7.4.3 in /usr/local/lib/python3.8/dist-packages (from huggingface-hub>=0.4.0->sentence-transformers) (4.4.0)\n",
            "Requirement already satisfied: requests in /usr/local/lib/python3.8/dist-packages (from huggingface-hub>=0.4.0->sentence-transformers) (2.25.1)\n",
            "Requirement already satisfied: tokenizers!=0.11.3,<0.14,>=0.11.1 in /usr/local/lib/python3.8/dist-packages (from transformers<5.0.0,>=4.6.0->sentence-transformers) (0.13.2)\n",
            "Requirement already satisfied: regex!=2019.12.17 in /usr/local/lib/python3.8/dist-packages (from transformers<5.0.0,>=4.6.0->sentence-transformers) (2022.6.2)\n",
            "Requirement already satisfied: click in /usr/local/lib/python3.8/dist-packages (from nltk->sentence-transformers) (7.1.2)\n",
            "Requirement already satisfied: joblib in /usr/local/lib/python3.8/dist-packages (from nltk->sentence-transformers) (1.2.0)\n",
            "Requirement already satisfied: threadpoolctl>=2.0.0 in /usr/local/lib/python3.8/dist-packages (from scikit-learn->sentence-transformers) (3.1.0)\n",
            "Requirement already satisfied: pillow!=8.3.*,>=5.3.0 in /usr/local/lib/python3.8/dist-packages (from torchvision->sentence-transformers) (7.1.2)\n",
            "Requirement already satisfied: chardet<5,>=3.0.2 in /usr/local/lib/python3.8/dist-packages (from requests->huggingface-hub>=0.4.0->sentence-transformers) (4.0.0)\n",
            "Requirement already satisfied: idna<3,>=2.5 in /usr/local/lib/python3.8/dist-packages (from requests->huggingface-hub>=0.4.0->sentence-transformers) (2.10)\n",
            "Requirement already satisfied: certifi>=2017.4.17 in /usr/local/lib/python3.8/dist-packages (from requests->huggingface-hub>=0.4.0->sentence-transformers) (2022.12.7)\n",
            "Requirement already satisfied: urllib3<1.27,>=1.21.1 in /usr/local/lib/python3.8/dist-packages (from requests->huggingface-hub>=0.4.0->sentence-transformers) (1.24.3)\n",
            "\n",
            "\n",
            "======================\n",
            "\n",
            "\n",
            "Query: 한 남자가 파스타를 먹는다.\n",
            "\n",
            "Top 5 most similar sentences in corpus:\n",
            "최근 빠르게 확장중인 현대식 부산 돼지국밥.jpg (Score: 0.1966)\n",
            "한식이 달게 느껴지는 이유....jpg (Score: 0.1691)\n",
            "우리 반 복실이가 너무 잘 먹어.MANHWA #8.5 발렌타인 데이 (Score: 0.1575)\n",
            "냠냠쩝쩝 일본 애니 먹방 레전드 (Score: 0.1411)\n",
            "서부산은 남유럽같은 파스텔톤 색감이 특징이다. (Score: 0.1216)\n",
            "\n",
            "\n",
            "======================\n",
            "\n",
            "\n",
            "Query: 고릴라 의상을 입은 누군가가 드럼을 연주하고 있다.\n",
            "\n",
            "Top 5 most similar sentences in corpus:\n",
            "코스대회 보고 재업하는 봇더락 코스프레 (Score: 0.4061)\n",
            "숏트맨 : 다크마이트 (Score: 0.3236)\n",
            "함디 부타 - 유서깊은 바그너의 망치질 (Score: 0.3148)\n",
            "싱글벙글 n행시 대결 (Score: 0.3055)\n",
            "봇치등 각종 애니 팬아트 그린거 모음 (Score: 0.2955)\n",
            "\n",
            "\n",
            "======================\n",
            "\n",
            "\n",
            "Query: 치타가 들판을 가로 질러 먹이를 쫓는다.\n",
            "\n",
            "Top 5 most similar sentences in corpus:\n",
            "치바 덴푸라 오마카세 - 텐하쿠 (Score: 0.2748)\n",
            "세븐캣러브 / 사자꿈 (Score: 0.2652)\n",
            "후투티 찾으러가는 만화 (Score: 0.2396)\n",
            "오싹오싹 씨꺼멓게 타버린 닭 (Score: 0.2154)\n",
            "[ㅇㅎ] 19) No. 1021 - Nene Shida / 志田音々 (Score: 0.2118)\n"
          ]
        }
      ]
    }
  ]
}